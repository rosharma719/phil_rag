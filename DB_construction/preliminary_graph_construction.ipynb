{
 "cells": [
  {
   "cell_type": "markdown",
   "metadata": {},
   "source": [
    "Check whether it replaces existing data\n",
    "Make this more airtight"
   ]
  },
  {
   "cell_type": "code",
   "execution_count": 24,
   "metadata": {},
   "outputs": [],
   "source": [
    "import numpy as np\n",
    "import faiss\n",
    "import psycopg2\n",
    "\n",
    "# FAISS Index - Use Inner Product for Cosine Similarity\n",
    "dimension = all_embeddings.shape[1]\n",
    "index = faiss.IndexFlatIP(dimension)  \n",
    "faiss.normalize_L2(all_embeddings)  # Normalize for cosine similarity\n",
    "index.add(all_embeddings)\n",
    "\n",
    "# Retrieve FAISS nearest neighbors\n",
    "k = 10  # Top-10\n",
    "distances, neighbors = index.search(all_embeddings, k + 1)  # +1 to exclude self-match\n",
    "\n",
    "# Prevent self-matches\n",
    "similarity_data = []\n",
    "for i in range(len(db_ids)):  \n",
    "    source_id = db_ids[i]\n",
    "\n",
    "    for j in range(1, k + 1):  # Skip first result (self-match)\n",
    "        target_id = db_ids[neighbors[i][j]]\n",
    "        similarity = float(1 - distances[i][j])  # Convert FAISS L2 to similarity\n",
    "        closeness = float(1 / (distances[i][j] + 1e-6))  # Prevent division by zero\n",
    "\n",
    "        similarity_data.append((source_id, target_id, similarity, closeness))\n"
   ]
  },
  {
   "cell_type": "code",
   "execution_count": 21,
   "metadata": {},
   "outputs": [
    {
     "name": "stdout",
     "output_type": "stream",
     "text": [
      "\n",
      "🔗 **Sample Similar Sections**\n",
      "\n",
      "📜 **logical form — 5. Descriptions and Analysis**\n",
      "   🔍 Closest matches:\n",
      "   1. **logical form** — 5. Descriptions and Analysis\n",
      "   2. **music\\, philosophy of** — 1.2 The Definition of “Music”\n",
      "   3. **Twardowski\\, Kazimierz** — 3.1 On the so-called relative truths (1900)\n",
      "--------------------------------------------------------------------------------\n",
      "\n",
      "📜 **God\\, arguments for the existence of cosmological argument: teleological — see teleology: teleological arguments for God's existence — 1. Introduction**\n",
      "   🔍 Closest matches:\n",
      "   1. **God\\, arguments for the existence of cosmological argument: teleological — see teleology: teleological arguments for God's existence** — 1. Introduction\n",
      "   2. **epistemology: virtue** — 10. Expanding Horizons\n",
      "   3. **impossible worlds** — 6.6 Compositionality\n",
      "--------------------------------------------------------------------------------\n",
      "\n",
      "📜 **federalism — 4.3 Sources of Stability**\n",
      "   🔍 Closest matches:\n",
      "   1. **intuitionistic logic — see logic: intuitionistic: development of — see logic\\, history of: intuitionistic logic** — 5.4 Heyting 1956\n",
      "   2. **Aquinas\\, Thomas: moral\\, political\\, and legal philosophy** — 3.3 Moral precepts are further specifications of this master principle and its immediate specifications\n",
      "   3. **federalism** — 4.5 Distributive Justice\n",
      "--------------------------------------------------------------------------------\n",
      "\n",
      "📜 **moral relativism — 7. Mixed Positions: A Rapprochement between Relativists and Objectivists?**\n",
      "   🔍 Closest matches:\n",
      "   1. **moral relativism** — 7. Mixed Positions: A Rapprochement between Relativists and Objectivists?\n",
      "   2. **knowledge analysis of: analysis of** — 13. Contextualism\n",
      "   3. **Ibn Gabirol\\, Solomon [Avicebron]** — 2.1 Aristotelian Lenses in the Study of Ibn Gabirol\n",
      "--------------------------------------------------------------------------------\n",
      "\n",
      "📜 **Kumārila — 2.4 Alternative interpretations of Kumārila’s epistemology**\n",
      "   🔍 Closest matches:\n",
      "   1. **Kumārila** — 2.4 Alternative interpretations of Kumārila’s epistemology\n",
      "   2. **God and other necessary beings: and other ultimates** — 2.1 Models of Brahman\n",
      "   3. **randomness chance: versus randomness** — 7.2 Randomness and Determinism\n",
      "--------------------------------------------------------------------------------\n"
     ]
    }
   ],
   "source": [
    "import random\n",
    "\n",
    "# **Get a few random entries to check their similar results**\n",
    "sample_indices = random.sample(range(len(nodes)), 5)  # Select 5 random entries\n",
    "\n",
    "print(\"\\n🔗 **Sample Similar Sections**\")\n",
    "for idx in sample_indices:\n",
    "    entry = nodes[idx]\n",
    "    title, section = entry[\"title\"], entry[\"section\"]\n",
    "\n",
    "    print(f\"\\n📜 **{title} — {section}**\\n   🔍 Closest matches:\")\n",
    "\n",
    "    for rank, neighbor_idx in enumerate(neighbors[idx][1:4], start=1):  # Skip self-match\n",
    "        neighbor = nodes[neighbor_idx]\n",
    "        print(f\"   {rank}. **{neighbor['title']}** — {neighbor['section']}\")\n",
    "\n",
    "    print(\"-\" * 80)\n"
   ]
  },
  {
   "cell_type": "code",
   "execution_count": 22,
   "metadata": {},
   "outputs": [
    {
     "name": "stdout",
     "output_type": "stream",
     "text": [
      "✅ FAISS similarity graph stored in PostgreSQL! 349380 relationships added.\n"
     ]
    }
   ],
   "source": [
    "\n",
    "# **Bulk insert into PostgreSQL**\n",
    "cur.executemany(\n",
    "    \"INSERT INTO sep_similarity (source_id, target_id, similarity, closeness_score) VALUES (%s, %s, %s, %s);\",\n",
    "    similarity_data\n",
    ")\n",
    "conn.commit()\n",
    "\n",
    "cur.close()\n",
    "conn.close()\n",
    "\n",
    "print(f\"✅ FAISS similarity graph stored in PostgreSQL! {len(similarity_data)} relationships added.\")\n"
   ]
  },
  {
   "cell_type": "code",
   "execution_count": null,
   "metadata": {},
   "outputs": [],
   "source": []
  }
 ],
 "metadata": {
  "kernelspec": {
   "display_name": "venv",
   "language": "python",
   "name": "python3"
  },
  "language_info": {
   "codemirror_mode": {
    "name": "ipython",
    "version": 3
   },
   "file_extension": ".py",
   "mimetype": "text/x-python",
   "name": "python",
   "nbconvert_exporter": "python",
   "pygments_lexer": "ipython3",
   "version": "3.11.11"
  }
 },
 "nbformat": 4,
 "nbformat_minor": 2
}
