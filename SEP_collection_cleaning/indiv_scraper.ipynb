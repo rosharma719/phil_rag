{
 "cells": [
  {
   "cell_type": "markdown",
   "metadata": {},
   "source": [
    "Sample testing for one page"
   ]
  },
  {
   "cell_type": "code",
   "execution_count": null,
   "metadata": {},
   "outputs": [
    {
     "name": "stdout",
     "output_type": "stream",
     "text": [
      "Scraping complete. The article content has been saved to 'abduction_article.json'.\n"
     ]
    }
   ],
   "source": [
    "import requests\n",
    "from bs4 import BeautifulSoup\n",
    "import json\n",
    "\n",
    "# URL of the article\n",
    "url = 'https://plato.stanford.edu/entries/aristotle/'\n",
    "\n",
    "# Send a GET request to fetch the HTML content\n",
    "response = requests.get(url)\n",
    "soup = BeautifulSoup(response.content, 'html.parser')\n",
    "\n",
    "# Initialize a dictionary to hold the sections\n",
    "article_content = {}\n",
    "\n",
    "# Find the main content division\n",
    "main_content = soup.find('div', {'id': 'main-text'})\n",
    "\n",
    "# Initialize variables to track the current section\n",
    "current_section = None\n",
    "current_text = []\n",
    "\n",
    "# Iterate through the elements in the main content\n",
    "for element in main_content.find_all(['h2', 'h3', 'p', 'ul', 'ol'], recursive=False):\n",
    "    if element.name in ['h2', 'h3']:\n",
    "        # If there's an existing section being processed, save its content\n",
    "        if current_section:\n",
    "            article_content[current_section] = ' '.join(current_text).strip()\n",
    "            current_text = []\n",
    "        # Start a new section\n",
    "        current_section = element.get_text().strip()\n",
    "    elif element.name in ['p', 'ul', 'ol'] and current_section:\n",
    "        # Append paragraph or list items to the current section's text\n",
    "        current_text.append(element.get_text().strip())\n",
    "\n",
    "# Add the last section to the dictionary\n",
    "if current_section and current_text:\n",
    "    article_content[current_section] = ' '.join(current_text).strip()\n",
    "\n",
    "# Convert the dictionary to a JSON object\n",
    "json_output = json.dumps(article_content, indent=4, ensure_ascii=False)\n",
    "\n",
    "# Save the JSON object to a file\n",
    "with open('aristotle_article.json', 'w', encoding='utf-8') as file:\n",
    "    file.write(json_output)\n",
    "\n",
    "print(\"Scraping complete. The article content has been saved to 'abduction_article.json'.\")\n"
   ]
  },
  {
   "cell_type": "markdown",
   "metadata": {},
   "source": [
    "Fixing CSV error"
   ]
  },
  {
   "cell_type": "code",
   "execution_count": 6,
   "metadata": {},
   "outputs": [
    {
     "name": "stdout",
     "output_type": "stream",
     "text": [
      "✅ Fixed hyperlinks in /Users/rohansharma/Desktop/Code/philRAG/SEP_collection_cleaning/sep_contents_fixed.csv\n"
     ]
    }
   ],
   "source": [
    "import csv\n",
    "\n",
    "# File paths\n",
    "csv_file = \"/Users/rohansharma/Desktop/Code/philRAG/SEP_collection_cleaning/sep_contents_fixed.csv\"\n",
    "\n",
    "# Read and update the CSV file\n",
    "fixed_rows = []\n",
    "with open(csv_file, \"r\", encoding=\"utf-8\") as file:\n",
    "    reader = csv.DictReader(file)\n",
    "    for row in reader:\n",
    "        row[\"link\"] = row[\"link\"].replace(\"eduentries\", \"edu/entries\")  # Fix link\n",
    "        fixed_rows.append(row)\n",
    "\n",
    "# Write the corrected CSV back to the original file\n",
    "with open(csv_file, \"w\", encoding=\"utf-8\", newline=\"\") as file:\n",
    "    writer = csv.DictWriter(file, fieldnames=[\"title\", \"link\", \"level\"])\n",
    "    writer.writeheader()\n",
    "    writer.writerows(fixed_rows)\n",
    "\n",
    "print(f\"✅ Fixed hyperlinks in {csv_file}\")\n"
   ]
  },
  {
   "cell_type": "markdown",
   "metadata": {},
   "source": [
    "Getting JSONs for all entries"
   ]
  },
  {
   "cell_type": "code",
   "execution_count": 8,
   "metadata": {},
   "outputs": [
    {
     "name": "stderr",
     "output_type": "stream",
     "text": [
      "Scraping SEP Articles:  81%|████████  | 2139/2636 [51:20<11:44,  1.42s/it] "
     ]
    },
    {
     "name": "stdout",
     "output_type": "stream",
     "text": [
      "Skipping invalid link: https://plato.stanford.edu#\n"
     ]
    },
    {
     "name": "stderr",
     "output_type": "stream",
     "text": [
      "Scraping SEP Articles: 100%|██████████| 2636/2636 [1:03:12<00:00,  1.44s/it]"
     ]
    },
    {
     "name": "stdout",
     "output_type": "stream",
     "text": [
      "✅ All articles saved in /Volumes/BigDrive/phil_rag\n"
     ]
    },
    {
     "name": "stderr",
     "output_type": "stream",
     "text": [
      "\n"
     ]
    }
   ],
   "source": [
    "import os\n",
    "import csv\n",
    "import json\n",
    "import requests\n",
    "from bs4 import BeautifulSoup\n",
    "from time import sleep\n",
    "from tqdm import tqdm\n",
    "\n",
    "# Paths\n",
    "csv_file = \"/Users/rohansharma/Desktop/Code/philRAG/SEP_collection_cleaning/sep_contents_fixed.csv\"\n",
    "output_dir = \"/Volumes/BigDrive/phil_rag\"\n",
    "os.makedirs(output_dir, exist_ok=True)\n",
    "\n",
    "# Read CSV file\n",
    "entries = []\n",
    "with open(csv_file, \"r\", encoding=\"utf-8\") as file:\n",
    "    reader = csv.DictReader(file)\n",
    "    for row in reader:\n",
    "        entries.append(row)\n",
    "\n",
    "# Function to clean and format filenames\n",
    "def sanitize_filename(title):\n",
    "    return title.lower().replace(\" \", \"_\").replace(\"[\", \"\").replace(\"]\", \"\").replace(\",\", \"\").replace(\"'\", \"\").replace(\"/\", \"_\")\n",
    "\n",
    "# Function to scrape article with structured sections\n",
    "def scrape_article(title, link):\n",
    "    try:\n",
    "        # Ensure link is properly formatted\n",
    "        if not link.startswith(\"https://plato.stanford.edu/entries/\"):\n",
    "            print(f\"Skipping invalid link: {link}\")\n",
    "            return None\n",
    "\n",
    "        # Fetch page\n",
    "        response = requests.get(link, timeout=10)\n",
    "        if response.status_code != 200:\n",
    "            print(f\"Failed to fetch {title}: {response.status_code}\")\n",
    "            return None\n",
    "        \n",
    "        # Parse HTML\n",
    "        soup = BeautifulSoup(response.content, \"html.parser\")\n",
    "        main_content = soup.find(\"div\", {\"id\": \"main-text\"})\n",
    "        if not main_content:\n",
    "            print(f\"No main content found for {title}\")\n",
    "            return None\n",
    "\n",
    "        # Extract structured sections\n",
    "        article_content = {}\n",
    "        current_section = None\n",
    "        current_text = []\n",
    "\n",
    "        for element in main_content.find_all(['h2', 'h3', 'p', 'ul', 'ol'], recursive=False):\n",
    "            if element.name in ['h2', 'h3']:\n",
    "                # Save the previous section\n",
    "                if current_section:\n",
    "                    article_content[current_section] = \"\\n\\n\".join(current_text).strip()\n",
    "                # Start a new section\n",
    "                current_section = element.get_text().strip()\n",
    "                current_text = []\n",
    "            elif element.name in ['p', 'ul', 'ol'] and current_section:\n",
    "                current_text.append(element.get_text().strip())\n",
    "\n",
    "        # Save the last section\n",
    "        if current_section and current_text:\n",
    "            article_content[current_section] = \"\\n\\n\".join(current_text).strip()\n",
    "\n",
    "        # Structure data\n",
    "        return {\n",
    "            \"title\": title,\n",
    "            \"link\": link,\n",
    "            \"level\": 1,  # Adjust if levels vary\n",
    "            \"sections\": article_content  # Structured content by section\n",
    "        }\n",
    "    \n",
    "    except Exception as e:\n",
    "        print(f\"Error scraping {title}: {str(e)}\")\n",
    "        return None\n",
    "\n",
    "# Process each entry and overwrite old files\n",
    "for entry in tqdm(entries, desc=\"Scraping SEP Articles\"):\n",
    "    title = entry[\"title\"]\n",
    "    link = entry[\"link\"]\n",
    "    \n",
    "    # Scrape content\n",
    "    article_data = scrape_article(title, link)\n",
    "    if article_data:\n",
    "        # Save JSON file\n",
    "        filename = f\"{sanitize_filename(title)}.json\"\n",
    "        filepath = os.path.join(output_dir, filename)\n",
    "        with open(filepath, \"w\", encoding=\"utf-8\") as file:\n",
    "            json.dump(article_data, file, indent=4, ensure_ascii=False)\n",
    "        \n",
    "        # Sleep to avoid rate limiting\n",
    "        sleep(1)  # Adjust if necessary\n",
    "\n",
    "print(f\"✅ All articles saved in {output_dir}\")\n"
   ]
  }
 ],
 "metadata": {
  "kernelspec": {
   "display_name": ".venv",
   "language": "python",
   "name": "python3"
  },
  "language_info": {
   "codemirror_mode": {
    "name": "ipython",
    "version": 3
   },
   "file_extension": ".py",
   "mimetype": "text/x-python",
   "name": "python",
   "nbconvert_exporter": "python",
   "pygments_lexer": "ipython3",
   "version": "3.13.0"
  }
 },
 "nbformat": 4,
 "nbformat_minor": 2
}
