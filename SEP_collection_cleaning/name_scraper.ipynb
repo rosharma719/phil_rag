{
 "cells": [
  {
   "cell_type": "code",
   "execution_count": null,
   "metadata": {},
   "outputs": [],
   "source": [
    "import requests\n",
    "from bs4 import BeautifulSoup\n",
    "import re\n",
    "import pandas as pd\n",
    "\n",
    "# URL of the SEP Table of Contents\n",
    "URL = \"https://plato.stanford.edu/contents.html\"\n",
    "\n",
    "def clean_text(text):\n",
    "    \"\"\"Removes parentheses and their contents from text, preserving names.\"\"\"\n",
    "    return re.sub(r'\\s*\\([^)]*\\)', '', text).strip()\n",
    "\n",
    "def scrape_structure():\n",
    "    \"\"\"Scrapes the SEP ToC while recording every entry, preserving headers and subheaders correctly, including hyperlinked entries.\"\"\"\n",
    "    response = requests.get(URL)\n",
    "    response.raise_for_status()\n",
    "    soup = BeautifulSoup(response.text, \"html.parser\")\n",
    "\n",
    "    structured_data = []\n",
    "    content_div = soup.find(\"div\", id=\"content\")\n",
    "\n",
    "    if content_div:\n",
    "        current_header = \"\"\n",
    "        for li in content_div.find_all(\"li\", recursive=True):  # Capture all list items\n",
    "            link = li.find(\"a\")\n",
    "            href = link[\"href\"] if link else \"\"\n",
    "            full_link = f\"https://plato.stanford.edu{href}\" if href else \"\"\n",
    "            \n",
    "            # Extract raw text without subitems, including hyperlinks\n",
    "            text_parts = [clean_text(x) for x in li.find_all(string=True, recursive=False) if clean_text(x)]\n",
    "            hyperlink_text = clean_text(link.get_text(strip=True)) if link else \"\"\n",
    "            \n",
    "            text = \" \".join(text_parts).strip()\n",
    "            if hyperlink_text and hyperlink_text not in text:\n",
    "                text = f\"{text} {hyperlink_text}\".strip()\n",
    "            \n",
    "            # Determine hierarchy level\n",
    "            level = len(li.find_parents(\"ul\"))\n",
    "            \n",
    "            # Track headers properly\n",
    "            if level == 1:\n",
    "                current_header = text  # Set new header\n",
    "                structured_data.append({\n",
    "                    \"title\": text,\n",
    "                    \"link\": full_link,\n",
    "                    \"level\": level\n",
    "                })\n",
    "            else:\n",
    "                structured_data.append({\n",
    "                    \"title\": f\"{current_header}: {text}\",\n",
    "                    \"link\": full_link,\n",
    "                    \"level\": level\n",
    "                })\n",
    "    \n",
    "    return structured_data\n"
   ]
  },
  {
   "cell_type": "code",
   "execution_count": 51,
   "metadata": {},
   "outputs": [
    {
     "name": "stdout",
     "output_type": "stream",
     "text": [
      "Scraped 2636 entries with hierarchy preserved.\n"
     ]
    },
    {
     "data": {
      "text/html": [
       "<div>\n",
       "<style scoped>\n",
       "    .dataframe tbody tr th:only-of-type {\n",
       "        vertical-align: middle;\n",
       "    }\n",
       "\n",
       "    .dataframe tbody tr th {\n",
       "        vertical-align: top;\n",
       "    }\n",
       "\n",
       "    .dataframe thead th {\n",
       "        text-align: right;\n",
       "    }\n",
       "</style>\n",
       "<table border=\"1\" class=\"dataframe\">\n",
       "  <thead>\n",
       "    <tr style=\"text-align: right;\">\n",
       "      <th></th>\n",
       "      <th>title</th>\n",
       "      <th>link</th>\n",
       "      <th>level</th>\n",
       "    </tr>\n",
       "  </thead>\n",
       "  <tbody>\n",
       "    <tr>\n",
       "      <th>0</th>\n",
       "      <td>abduction</td>\n",
       "      <td>https://plato.stanford.eduentries/abduction/</td>\n",
       "      <td>1</td>\n",
       "    </tr>\n",
       "    <tr>\n",
       "      <th>1</th>\n",
       "      <td>Abelard [Abailard], Peter</td>\n",
       "      <td>https://plato.stanford.eduentries/abelard/</td>\n",
       "      <td>1</td>\n",
       "    </tr>\n",
       "    <tr>\n",
       "      <th>2</th>\n",
       "      <td>Abhidharma</td>\n",
       "      <td>https://plato.stanford.eduentries/abhidharma/</td>\n",
       "      <td>1</td>\n",
       "    </tr>\n",
       "    <tr>\n",
       "      <th>3</th>\n",
       "      <td>abilities</td>\n",
       "      <td>https://plato.stanford.eduentries/abilities/</td>\n",
       "      <td>1</td>\n",
       "    </tr>\n",
       "    <tr>\n",
       "      <th>4</th>\n",
       "      <td>Abner of Burgos</td>\n",
       "      <td>https://plato.stanford.eduentries/abner-burgos/</td>\n",
       "      <td>1</td>\n",
       "    </tr>\n",
       "  </tbody>\n",
       "</table>\n",
       "</div>"
      ],
      "text/plain": [
       "                       title                                             link  \\\n",
       "0                  abduction     https://plato.stanford.eduentries/abduction/   \n",
       "1  Abelard [Abailard], Peter       https://plato.stanford.eduentries/abelard/   \n",
       "2                 Abhidharma    https://plato.stanford.eduentries/abhidharma/   \n",
       "3                  abilities     https://plato.stanford.eduentries/abilities/   \n",
       "4            Abner of Burgos  https://plato.stanford.eduentries/abner-burgos/   \n",
       "\n",
       "   level  \n",
       "0      1  \n",
       "1      1  \n",
       "2      1  \n",
       "3      1  \n",
       "4      1  "
      ]
     },
     "execution_count": 51,
     "metadata": {},
     "output_type": "execute_result"
    }
   ],
   "source": [
    "\n",
    "data = scrape_structure()\n",
    "df = pd.DataFrame(data)\n",
    "df.drop_duplicates(subset=[\"title\"], keep=\"first\", inplace=True)\n",
    "df.to_csv(\"sep_contents.csv\", index=False)\n",
    "\n",
    "print(f\"Scraped {len(df)} entries with hierarchy preserved.\")\n",
    "df.head()\n"
   ]
  },
  {
   "cell_type": "code",
   "execution_count": 52,
   "metadata": {},
   "outputs": [
    {
     "name": "stdout",
     "output_type": "stream",
     "text": [
      "Fixed CSV saved as sep_contents_fixed.csv\n"
     ]
    }
   ],
   "source": [
    "import pandas as pd\n",
    "import csv\n",
    "\n",
    "# Load the CSV as strings\n",
    "df = pd.read_csv(\"sep_contents.csv\", dtype=str)\n",
    "\n",
    "# Manually apply quotes to the first two columns while leaving 'level' unquoted\n",
    "df[\"title\"] = df[\"title\"].apply(lambda x: f'\"{x}\"' if not x.startswith('\"') else x)\n",
    "df[\"link\"] = df[\"link\"].apply(lambda x: f'\"{x}\"' if not x.startswith('\"') else x)\n",
    "\n",
    "# Save the CSV with minimal quoting (ensuring only title and link are quoted)\n",
    "df.to_csv(\"sep_contents_fixed.csv\", index=False, quoting=csv.QUOTE_NONE, escapechar='\\\\')\n",
    "\n",
    "print(\"Fixed CSV saved as sep_contents_fixed.csv\")\n"
   ]
  },
  {
   "cell_type": "code",
   "execution_count": null,
   "metadata": {},
   "outputs": [],
   "source": []
  }
 ],
 "metadata": {
  "kernelspec": {
   "display_name": ".venv",
   "language": "python",
   "name": "python3"
  },
  "language_info": {
   "codemirror_mode": {
    "name": "ipython",
    "version": 3
   },
   "file_extension": ".py",
   "mimetype": "text/x-python",
   "name": "python",
   "nbconvert_exporter": "python",
   "pygments_lexer": "ipython3",
   "version": "3.13.0"
  }
 },
 "nbformat": 4,
 "nbformat_minor": 2
}
